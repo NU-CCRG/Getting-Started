{
 "cells": [
  {
   "cell_type": "markdown",
   "metadata": {},
   "source": [
    "In this assignment we will explore the Array of Things dataset. In particular, we will explore the pre-processed reduced dataset in the folder `/projects/b1045/AoT/AoT_reduced_data_10m`\n",
    "\n",
    "To help us explore the dataset, and learn `pandas` and a little bit of `cartopy` while exploring, let's try to answer the following questions.\n",
    "\n",
    "1. How many types of sensors are available in the AoT? What are they?\n",
    "2. How many nodes are there in the AoT? List all the node ids.\n",
    "3. Do all stations have the same set of sensors?\n",
    "4. What node is closest to where you live?\n",
    "5. What sensors are available in that node?\n",
    "6. What is the time period of the data availability of a sensor in that node?\n",
    "7. Plot a time series of any available sensor in the node closest to you.\n",
    "8. Plot the map of locations of 4 sensors."
   ]
  },
  {
   "cell_type": "code",
   "execution_count": 1,
   "metadata": {
    "ExecuteTime": {
     "end_time": "2020-07-14T18:47:23.099674Z",
     "start_time": "2020-07-14T18:47:18.603612Z"
    }
   },
   "outputs": [
    {
     "name": "stdout",
     "output_type": "stream",
     "text": [
      "Populating the interactive namespace from numpy and matplotlib\n"
     ]
    }
   ],
   "source": [
    "%pylab inline\n",
    "\n",
    "import pandas as pd"
   ]
  },
  {
   "cell_type": "code",
   "execution_count": 2,
   "metadata": {
    "ExecuteTime": {
     "end_time": "2020-07-14T18:47:23.296123Z",
     "start_time": "2020-07-14T18:47:23.101643Z"
    }
   },
   "outputs": [],
   "source": [
    "import cartopy.crs as ccrs\n",
    "import cartopy.io.shapereader as shpreader\n",
    "import cartopy.feature"
   ]
  },
  {
   "cell_type": "code",
   "execution_count": 3,
   "metadata": {
    "ExecuteTime": {
     "end_time": "2020-07-14T18:47:23.302108Z",
     "start_time": "2020-07-14T18:47:23.298117Z"
    }
   },
   "outputs": [],
   "source": [
    "data_file = './AoT/data.csv'\n",
    "nodeid_file = './AoT/nodes.csv'\n",
    "provenance_file = './AoT/provenance.csv'\n",
    "sensors_file = './AoT/sensors.csv'"
   ]
  },
  {
   "cell_type": "code",
   "execution_count": 4,
   "metadata": {
    "ExecuteTime": {
     "end_time": "2020-07-14T18:47:51.583352Z",
     "start_time": "2020-07-14T18:47:23.304103Z"
    }
   },
   "outputs": [],
   "source": [
    "df_data = pd.read_csv(data_file)\n",
    "df_nodeid = pd.read_csv(nodeid_file)"
   ]
  },
  {
   "cell_type": "code",
   "execution_count": 5,
   "metadata": {
    "ExecuteTime": {
     "end_time": "2020-07-14T18:47:51.626752Z",
     "start_time": "2020-07-14T18:47:51.585347Z"
    }
   },
   "outputs": [],
   "source": [
    "df_prov = pd.read_csv(provenance_file)\n",
    "df_sensors = pd.read_csv(sensors_file)"
   ]
  },
  {
   "cell_type": "markdown",
   "metadata": {},
   "source": [
    "**1. How many types of sensors are available in the AoT? What are they?**"
   ]
  },
  {
   "cell_type": "code",
   "execution_count": 6,
   "metadata": {
    "ExecuteTime": {
     "end_time": "2020-07-14T18:47:51.640716Z",
     "start_time": "2020-07-14T18:47:51.628748Z"
    }
   },
   "outputs": [
    {
     "data": {
      "text/plain": [
       "array(['co', 'h2s', 'no2', 'o3', 'oxidizing_gases', 'reducing_gases',\n",
       "       'so2', 'opc_n2', 'pms7003', 'hih4030', 'htu21d', 'bmp180',\n",
       "       'pr103j2', 'tmp112', 'tsys01', 'microphone', 'tsl260rd',\n",
       "       'apds_9006_020', 'mlx75305', 'tsl250rd', 'hmc5883l',\n",
       "       'spv1840lr5h_b', 'ml8511', 'mma8452q', 'loadavg', 'mem', 'uptime',\n",
       "       'hih6130', 'si1145', 'temperatures', 'tmp421', 'net_broadband',\n",
       "       'net_lan', 'net_usb', 'lps25h', 'sht25', 'chemsense', 'metsense',\n",
       "       'at0', 'at1', 'at2', 'at3', 'current', 'failures', 'heartbeat',\n",
       "       'enabled'], dtype=object)"
      ]
     },
     "execution_count": 6,
     "metadata": {},
     "output_type": "execute_result"
    }
   ],
   "source": [
    "df_sensors.sensor.unique()"
   ]
  },
  {
   "cell_type": "code",
   "execution_count": 7,
   "metadata": {
    "ExecuteTime": {
     "end_time": "2020-07-14T18:47:51.651688Z",
     "start_time": "2020-07-14T18:47:51.643708Z"
    }
   },
   "outputs": [
    {
     "name": "stdout",
     "output_type": "stream",
     "text": [
      "There are 46 sensors in the AoT.\n"
     ]
    }
   ],
   "source": [
    "print(\"There are {0} sensors in the AoT.\".format(len(df_sensors.sensor.unique())))"
   ]
  },
  {
   "cell_type": "markdown",
   "metadata": {},
   "source": [
    "**2. How many nodes are there in the AoT?**"
   ]
  },
  {
   "cell_type": "code",
   "execution_count": 8,
   "metadata": {
    "ExecuteTime": {
     "end_time": "2020-07-14T18:47:51.676619Z",
     "start_time": "2020-07-14T18:47:51.656673Z"
    }
   },
   "outputs": [
    {
     "name": "stdout",
     "output_type": "stream",
     "text": [
      "<class 'pandas.core.frame.DataFrame'>\n",
      "RangeIndex: 91 entries, 0 to 90\n",
      "Data columns (total 9 columns):\n",
      "node_id            91 non-null object\n",
      "project_id         91 non-null object\n",
      "vsn                91 non-null object\n",
      "address            91 non-null object\n",
      "lat                91 non-null float64\n",
      "lon                91 non-null float64\n",
      "description        91 non-null object\n",
      "start_timestamp    91 non-null object\n",
      "end_timestamp      5 non-null object\n",
      "dtypes: float64(2), object(7)\n",
      "memory usage: 6.5+ KB\n"
     ]
    }
   ],
   "source": [
    "df_nodeid.info()"
   ]
  },
  {
   "cell_type": "code",
   "execution_count": 9,
   "metadata": {
    "ExecuteTime": {
     "end_time": "2020-07-14T18:47:51.685596Z",
     "start_time": "2020-07-14T18:47:51.679611Z"
    }
   },
   "outputs": [
    {
     "name": "stdout",
     "output_type": "stream",
     "text": [
      "There are 91 nodes in the AoT.\n"
     ]
    }
   ],
   "source": [
    "print('There are {0} nodes in the AoT.'.format(len(df_nodeid)))"
   ]
  },
  {
   "cell_type": "markdown",
   "metadata": {},
   "source": [
    "If you're curious how the contents look like, print the head of the dataframe."
   ]
  },
  {
   "cell_type": "code",
   "execution_count": 10,
   "metadata": {
    "ExecuteTime": {
     "end_time": "2020-07-14T18:47:51.714519Z",
     "start_time": "2020-07-14T18:47:51.688588Z"
    }
   },
   "outputs": [
    {
     "data": {
      "text/html": [
       "<div>\n",
       "<style scoped>\n",
       "    .dataframe tbody tr th:only-of-type {\n",
       "        vertical-align: middle;\n",
       "    }\n",
       "\n",
       "    .dataframe tbody tr th {\n",
       "        vertical-align: top;\n",
       "    }\n",
       "\n",
       "    .dataframe thead th {\n",
       "        text-align: right;\n",
       "    }\n",
       "</style>\n",
       "<table border=\"1\" class=\"dataframe\">\n",
       "  <thead>\n",
       "    <tr style=\"text-align: right;\">\n",
       "      <th></th>\n",
       "      <th>node_id</th>\n",
       "      <th>project_id</th>\n",
       "      <th>vsn</th>\n",
       "      <th>address</th>\n",
       "      <th>lat</th>\n",
       "      <th>lon</th>\n",
       "      <th>description</th>\n",
       "      <th>start_timestamp</th>\n",
       "      <th>end_timestamp</th>\n",
       "    </tr>\n",
       "  </thead>\n",
       "  <tbody>\n",
       "    <tr>\n",
       "      <th>0</th>\n",
       "      <td>001e0610ba46</td>\n",
       "      <td>AoT_Chicago</td>\n",
       "      <td>004</td>\n",
       "      <td>State St &amp; Jackson Blvd Chicago IL</td>\n",
       "      <td>41.878377</td>\n",
       "      <td>-87.627678</td>\n",
       "      <td>AoT Chicago (S) [C]</td>\n",
       "      <td>2017/10/09 00:00:00</td>\n",
       "      <td>NaN</td>\n",
       "    </tr>\n",
       "    <tr>\n",
       "      <th>1</th>\n",
       "      <td>001e0610ba3b</td>\n",
       "      <td>AoT_Chicago</td>\n",
       "      <td>006</td>\n",
       "      <td>18th St &amp; Lake Shore Dr Chicago IL</td>\n",
       "      <td>41.858136</td>\n",
       "      <td>-87.616055</td>\n",
       "      <td>AoT Chicago (S)</td>\n",
       "      <td>2017/08/08 00:00:00</td>\n",
       "      <td>NaN</td>\n",
       "    </tr>\n",
       "    <tr>\n",
       "      <th>2</th>\n",
       "      <td>001e0610ba8f</td>\n",
       "      <td>AoT_Chicago</td>\n",
       "      <td>00D</td>\n",
       "      <td>Cornell &amp; 47th St Chicago IL</td>\n",
       "      <td>41.810342</td>\n",
       "      <td>-87.590228</td>\n",
       "      <td>AoT Chicago (S)</td>\n",
       "      <td>2017/08/08 00:00:00</td>\n",
       "      <td>NaN</td>\n",
       "    </tr>\n",
       "    <tr>\n",
       "      <th>3</th>\n",
       "      <td>001e0610ba16</td>\n",
       "      <td>AoT_Chicago</td>\n",
       "      <td>010</td>\n",
       "      <td>Ohio St &amp; Grand Ave Chicago IL</td>\n",
       "      <td>41.891964</td>\n",
       "      <td>-87.611603</td>\n",
       "      <td>AoT Chicago (S) [C]</td>\n",
       "      <td>2017/12/01 00:00:00</td>\n",
       "      <td>2018/06/04 00:00:00</td>\n",
       "    </tr>\n",
       "    <tr>\n",
       "      <th>4</th>\n",
       "      <td>001e0610ba8b</td>\n",
       "      <td>AoT_Chicago</td>\n",
       "      <td>018</td>\n",
       "      <td>Stony Island Ave &amp; 63rd St Chicago IL</td>\n",
       "      <td>41.780600</td>\n",
       "      <td>-87.586456</td>\n",
       "      <td>AoT Chicago (S) [C]</td>\n",
       "      <td>2018/02/26 00:00:00</td>\n",
       "      <td>NaN</td>\n",
       "    </tr>\n",
       "  </tbody>\n",
       "</table>\n",
       "</div>"
      ],
      "text/plain": [
       "        node_id   project_id  vsn                                address  \\\n",
       "0  001e0610ba46  AoT_Chicago  004     State St & Jackson Blvd Chicago IL   \n",
       "1  001e0610ba3b  AoT_Chicago  006     18th St & Lake Shore Dr Chicago IL   \n",
       "2  001e0610ba8f  AoT_Chicago  00D           Cornell & 47th St Chicago IL   \n",
       "3  001e0610ba16  AoT_Chicago  010         Ohio St & Grand Ave Chicago IL   \n",
       "4  001e0610ba8b  AoT_Chicago  018  Stony Island Ave & 63rd St Chicago IL   \n",
       "\n",
       "         lat        lon          description      start_timestamp  \\\n",
       "0  41.878377 -87.627678  AoT Chicago (S) [C]  2017/10/09 00:00:00   \n",
       "1  41.858136 -87.616055      AoT Chicago (S)  2017/08/08 00:00:00   \n",
       "2  41.810342 -87.590228      AoT Chicago (S)  2017/08/08 00:00:00   \n",
       "3  41.891964 -87.611603  AoT Chicago (S) [C]  2017/12/01 00:00:00   \n",
       "4  41.780600 -87.586456  AoT Chicago (S) [C]  2018/02/26 00:00:00   \n",
       "\n",
       "         end_timestamp  \n",
       "0                  NaN  \n",
       "1                  NaN  \n",
       "2                  NaN  \n",
       "3  2018/06/04 00:00:00  \n",
       "4                  NaN  "
      ]
     },
     "execution_count": 10,
     "metadata": {},
     "output_type": "execute_result"
    }
   ],
   "source": [
    "df_nodeid.head()"
   ]
  },
  {
   "cell_type": "markdown",
   "metadata": {},
   "source": [
    "**List all the node ids.**"
   ]
  },
  {
   "cell_type": "code",
   "execution_count": 11,
   "metadata": {
    "ExecuteTime": {
     "end_time": "2020-07-14T18:47:52.994281Z",
     "start_time": "2020-07-14T18:47:51.716513Z"
    }
   },
   "outputs": [
    {
     "data": {
      "text/plain": [
       "array(['001e0610ba57', '001e0610bc10', '001e0610e537', '001e0610ef27',\n",
       "       '001e0610f513', '001e0610f6dd', '001e0610eef2', '001e061135cb',\n",
       "       '001e06113ace', '001e061144c0', '001e0610ee33', '001e0610fb4c',\n",
       "       '001e06112e77', '001e06113ad6', '001e06113dbc', '001e061144be',\n",
       "       '001e0611462f', '001e0610ee41', '001e0610f6db', '001e0610ba8b',\n",
       "       '001e0610ba8f', '001e0610ef68', '001e0610b9e9', '001e0610e532',\n",
       "       '001e0610e539', '001e0610ee82', '001e0610f732', '001e06113a48',\n",
       "       '001e0610ba13', '001e0610e538', '001e0610ee61', '001e0610eef4',\n",
       "       '001e0610ef73', '001e0610e809', '001e0610ee6f', '001e06115379',\n",
       "       '001e06109416', '001e0610bc12', '001e061130f4', '001e06115365',\n",
       "       '001e0611441e', '001e0610ba46', '001e0610ef29', '001e0610f668',\n",
       "       '001e06115369', '001e0610f703', '001e06114500', '001e0611537d',\n",
       "       '001e0610bbff', '001e0610ee43', '001e0610ee5d', '001e06113ad8',\n",
       "       '001e06113d22', '001e061146d6', '001e06114fd4', '001e0610f730',\n",
       "       '001e06114503', '001e0610ba15', '001e0610ee36', '001e06113cf1',\n",
       "       '001e0610f05c', '001e0610bbe5', '001e06113107', '001e061146ba',\n",
       "       '001e0610ba18', '001e0610bbf9', '001e0610e835', '001e0610f8f4',\n",
       "       '001e061146bc', '001e06113d83', '001e06113acb', '001e0610ba3b',\n",
       "       '001e06109f62', '001e06114fcf', '001e06113f54', '001e06114fd6',\n",
       "       '001e0611536c', '001e0610b9e5', '001e0610e540', '001e0610ef26',\n",
       "       '001e0610ba16', '001e061146cb'], dtype=object)"
      ]
     },
     "execution_count": 11,
     "metadata": {},
     "output_type": "execute_result"
    }
   ],
   "source": [
    "df_data.node_id.unique()"
   ]
  },
  {
   "cell_type": "code",
   "execution_count": 12,
   "metadata": {
    "ExecuteTime": {
     "end_time": "2020-07-14T18:47:52.999269Z",
     "start_time": "2020-07-14T18:47:52.996276Z"
    }
   },
   "outputs": [],
   "source": [
    "#lat = df_nodeid.lat\n",
    "#lon = df_nodeid.lon\n",
    "#nodeids = df_nodeid.node_id"
   ]
  },
  {
   "cell_type": "code",
   "execution_count": 13,
   "metadata": {
    "ExecuteTime": {
     "end_time": "2020-07-14T18:47:53.024738Z",
     "start_time": "2020-07-14T18:47:53.001771Z"
    }
   },
   "outputs": [
    {
     "data": {
      "text/html": [
       "<div>\n",
       "<style scoped>\n",
       "    .dataframe tbody tr th:only-of-type {\n",
       "        vertical-align: middle;\n",
       "    }\n",
       "\n",
       "    .dataframe tbody tr th {\n",
       "        vertical-align: top;\n",
       "    }\n",
       "\n",
       "    .dataframe thead th {\n",
       "        text-align: right;\n",
       "    }\n",
       "</style>\n",
       "<table border=\"1\" class=\"dataframe\">\n",
       "  <thead>\n",
       "    <tr style=\"text-align: right;\">\n",
       "      <th></th>\n",
       "      <th>timestamp</th>\n",
       "      <th>node_id</th>\n",
       "      <th>subsystem</th>\n",
       "      <th>sensor</th>\n",
       "      <th>parameter</th>\n",
       "      <th>value_hrf_sum</th>\n",
       "      <th>value_hrf_count</th>\n",
       "      <th>value_hrf_average</th>\n",
       "    </tr>\n",
       "  </thead>\n",
       "  <tbody>\n",
       "    <tr>\n",
       "      <th>0</th>\n",
       "      <td>2018/05/01 00:05:00</td>\n",
       "      <td>001e0610ba57</td>\n",
       "      <td>lightsense</td>\n",
       "      <td>hih6130</td>\n",
       "      <td>temperature</td>\n",
       "      <td>999.95</td>\n",
       "      <td>26</td>\n",
       "      <td>38.460</td>\n",
       "    </tr>\n",
       "    <tr>\n",
       "      <th>1</th>\n",
       "      <td>2018/05/01 00:05:00</td>\n",
       "      <td>001e0610ba57</td>\n",
       "      <td>lightsense</td>\n",
       "      <td>tmp421</td>\n",
       "      <td>temperature</td>\n",
       "      <td>907.26</td>\n",
       "      <td>26</td>\n",
       "      <td>34.895</td>\n",
       "    </tr>\n",
       "    <tr>\n",
       "      <th>2</th>\n",
       "      <td>2018/05/01 00:05:00</td>\n",
       "      <td>001e0610ba57</td>\n",
       "      <td>metsense</td>\n",
       "      <td>bmp180</td>\n",
       "      <td>temperature</td>\n",
       "      <td>656.60</td>\n",
       "      <td>26</td>\n",
       "      <td>25.254</td>\n",
       "    </tr>\n",
       "    <tr>\n",
       "      <th>3</th>\n",
       "      <td>2018/05/01 00:05:00</td>\n",
       "      <td>001e0610ba57</td>\n",
       "      <td>metsense</td>\n",
       "      <td>htu21d</td>\n",
       "      <td>temperature</td>\n",
       "      <td>650.58</td>\n",
       "      <td>26</td>\n",
       "      <td>25.022</td>\n",
       "    </tr>\n",
       "    <tr>\n",
       "      <th>4</th>\n",
       "      <td>2018/05/01 00:05:00</td>\n",
       "      <td>001e0610ba57</td>\n",
       "      <td>metsense</td>\n",
       "      <td>pr103j2</td>\n",
       "      <td>temperature</td>\n",
       "      <td>656.25</td>\n",
       "      <td>26</td>\n",
       "      <td>25.240</td>\n",
       "    </tr>\n",
       "  </tbody>\n",
       "</table>\n",
       "</div>"
      ],
      "text/plain": [
       "             timestamp       node_id   subsystem   sensor    parameter  \\\n",
       "0  2018/05/01 00:05:00  001e0610ba57  lightsense  hih6130  temperature   \n",
       "1  2018/05/01 00:05:00  001e0610ba57  lightsense   tmp421  temperature   \n",
       "2  2018/05/01 00:05:00  001e0610ba57    metsense   bmp180  temperature   \n",
       "3  2018/05/01 00:05:00  001e0610ba57    metsense   htu21d  temperature   \n",
       "4  2018/05/01 00:05:00  001e0610ba57    metsense  pr103j2  temperature   \n",
       "\n",
       "   value_hrf_sum  value_hrf_count  value_hrf_average  \n",
       "0         999.95               26             38.460  \n",
       "1         907.26               26             34.895  \n",
       "2         656.60               26             25.254  \n",
       "3         650.58               26             25.022  \n",
       "4         656.25               26             25.240  "
      ]
     },
     "execution_count": 13,
     "metadata": {},
     "output_type": "execute_result"
    }
   ],
   "source": [
    "df_data.head()"
   ]
  },
  {
   "cell_type": "markdown",
   "metadata": {},
   "source": [
    "**3. Do all stations have the same set of sensors?**\n",
    "\n",
    "To answer this, print the how many of each sensor there are in the entire dataframe. If the stations have the same set of sensors, each sensor would have the same count."
   ]
  },
  {
   "cell_type": "code",
   "execution_count": 14,
   "metadata": {
    "ExecuteTime": {
     "end_time": "2020-07-14T18:47:55.357137Z",
     "start_time": "2020-07-14T18:47:53.026708Z"
    }
   },
   "outputs": [
    {
     "data": {
      "text/plain": [
       "htu21d             1526556\n",
       "pr103j2            1459974\n",
       "tsys01             1420432\n",
       "hih6130            1417525\n",
       "tmp421             1417525\n",
       "bmp180             1417523\n",
       "tmp112             1351436\n",
       "lps25h              767120\n",
       "reducing_gases      767116\n",
       "oxidizing_gases     767116\n",
       "no2                 767116\n",
       "h2s                 767116\n",
       "at2                 767116\n",
       "so2                 767116\n",
       "at3                 767116\n",
       "at1                 767116\n",
       "co                  767116\n",
       "at0                 767116\n",
       "o3                  767116\n",
       "current             565360\n",
       "sht25               199845\n",
       "Name: sensor, dtype: int64"
      ]
     },
     "execution_count": 14,
     "metadata": {},
     "output_type": "execute_result"
    }
   ],
   "source": [
    "df_data.sensor.value_counts()"
   ]
  },
  {
   "cell_type": "markdown",
   "metadata": {},
   "source": [
    "**4. Which node is closest to where you live?**"
   ]
  },
  {
   "cell_type": "code",
   "execution_count": 15,
   "metadata": {
    "ExecuteTime": {
     "end_time": "2020-07-14T18:47:55.383634Z",
     "start_time": "2020-07-14T18:47:55.359037Z"
    }
   },
   "outputs": [],
   "source": [
    "my_location = [42.048531, -87.688803]\n",
    "#my_location = [41.95, -87.68]"
   ]
  },
  {
   "cell_type": "code",
   "execution_count": 16,
   "metadata": {
    "ExecuteTime": {
     "end_time": "2020-07-14T18:47:55.394605Z",
     "start_time": "2020-07-14T18:47:55.385627Z"
    }
   },
   "outputs": [],
   "source": [
    "lat = df_nodeid.lat.values\n",
    "lon = df_nodeid.lon.values\n",
    "nodeids = df_nodeid.node_id.values"
   ]
  },
  {
   "cell_type": "code",
   "execution_count": 17,
   "metadata": {
    "ExecuteTime": {
     "end_time": "2020-07-14T18:47:55.403578Z",
     "start_time": "2020-07-14T18:47:55.395602Z"
    }
   },
   "outputs": [],
   "source": [
    "distances = np.sqrt((lat-my_location[0])**2+(lon-my_location[1])**2)"
   ]
  },
  {
   "cell_type": "code",
   "execution_count": 18,
   "metadata": {
    "ExecuteTime": {
     "end_time": "2020-07-14T18:47:55.415575Z",
     "start_time": "2020-07-14T18:47:55.405574Z"
    }
   },
   "outputs": [],
   "source": [
    "closest_idx = np.where(distances==distances.min())[0][0]"
   ]
  },
  {
   "cell_type": "code",
   "execution_count": 19,
   "metadata": {
    "ExecuteTime": {
     "end_time": "2020-07-14T18:47:55.427549Z",
     "start_time": "2020-07-14T18:47:55.417541Z"
    }
   },
   "outputs": [
    {
     "data": {
      "text/plain": [
       "12"
      ]
     },
     "execution_count": 19,
     "metadata": {},
     "output_type": "execute_result"
    }
   ],
   "source": [
    "closest_idx"
   ]
  },
  {
   "cell_type": "code",
   "execution_count": 20,
   "metadata": {
    "ExecuteTime": {
     "end_time": "2020-07-14T18:47:55.437490Z",
     "start_time": "2020-07-14T18:47:55.429510Z"
    }
   },
   "outputs": [
    {
     "data": {
      "text/plain": [
       "'001e0610b9e5'"
      ]
     },
     "execution_count": 20,
     "metadata": {},
     "output_type": "execute_result"
    }
   ],
   "source": [
    "nodeids[closest_idx]"
   ]
  },
  {
   "cell_type": "code",
   "execution_count": 21,
   "metadata": {
    "ExecuteTime": {
     "end_time": "2020-07-14T18:47:55.447489Z",
     "start_time": "2020-07-14T18:47:55.439483Z"
    }
   },
   "outputs": [
    {
     "data": {
      "text/plain": [
       "19981572"
      ]
     },
     "execution_count": 21,
     "metadata": {},
     "output_type": "execute_result"
    }
   ],
   "source": [
    "len(df_data)"
   ]
  },
  {
   "cell_type": "code",
   "execution_count": 22,
   "metadata": {
    "ExecuteTime": {
     "end_time": "2020-07-14T18:47:56.794124Z",
     "start_time": "2020-07-14T18:47:55.449458Z"
    }
   },
   "outputs": [
    {
     "data": {
      "text/plain": [
       "<matplotlib.legend.Legend at 0x1fa0b80e3c8>"
      ]
     },
     "execution_count": 22,
     "metadata": {},
     "output_type": "execute_result"
    },
    {
     "data": {
      "image/png": "[encoded data removed]",
      "text/plain": [
       "<Figure size 720x720 with 1 Axes>"
      ]
     },
     "metadata": {
      "needs_background": "light"
     },
     "output_type": "display_data"
    }
   ],
   "source": [
    "plt.figure(figsize=(10,10))\n",
    "\n",
    "ax = plt.axes(projection=ccrs.PlateCarree())\n",
    "\n",
    "ax.set_extent([-88, -87.4, 41.6, 42.1])\n",
    "\n",
    "ax.add_feature(cartopy.feature.LAND,alpha=0.5)\n",
    "ax.add_feature(cartopy.feature.LAKES,alpha=0.5)\n",
    "\n",
    "ax.scatter(lon,lat,transform=ccrs.PlateCarree(),zorder=10,label='nodes')\n",
    "ax.scatter(my_location[1],my_location[0],transform=ccrs.PlateCarree(),marker='*',color='k',zorder=10,label='me')\n",
    "ax.scatter(lon[closest_idx],lat[closest_idx],transform=ccrs.PlateCarree(),color='r',zorder=10,label='closest node')\n",
    "\n",
    "gl = ax.gridlines(crs=ccrs.PlateCarree(), draw_labels=True,\n",
    "                  linewidth=1, color='gray', alpha=0.5, linestyle='--')\n",
    "\n",
    "gl.xlabels_top = False\n",
    "gl.ylabels_left = False\n",
    "\n",
    "plt.legend()"
   ]
  },
  {
   "cell_type": "markdown",
   "metadata": {},
   "source": [
    "**5. What sensors are available in that node?**"
   ]
  },
  {
   "cell_type": "code",
   "execution_count": 23,
   "metadata": {
    "ExecuteTime": {
     "end_time": "2020-07-14T18:47:58.218728Z",
     "start_time": "2020-07-14T18:47:56.798114Z"
    }
   },
   "outputs": [],
   "source": [
    "df_data_sub = df_data.loc[(df_data.node_id==nodeids[closest_idx])]"
   ]
  },
  {
   "cell_type": "code",
   "execution_count": 25,
   "metadata": {
    "ExecuteTime": {
     "end_time": "2020-07-14T18:47:58.265573Z",
     "start_time": "2020-07-14T18:47:58.257593Z"
    }
   },
   "outputs": [
    {
     "data": {
      "text/plain": [
       "array(['hih6130', 'tmp421', 'bmp180', 'htu21d', 'pr103j2', 'tmp112',\n",
       "       'tsys01', 'at0', 'at1', 'at2', 'at3', 'co', 'h2s', 'lps25h', 'no2',\n",
       "       'o3', 'oxidizing_gases', 'reducing_gases', 'so2', 'sht25'],\n",
       "      dtype=object)"
      ]
     },
     "execution_count": 25,
     "metadata": {},
     "output_type": "execute_result"
    }
   ],
   "source": [
    "df_data_sub.sensor.unique()"
   ]
  },
  {
   "cell_type": "code",
   "execution_count": 26,
   "metadata": {
    "ExecuteTime": {
     "end_time": "2020-07-14T18:47:58.275545Z",
     "start_time": "2020-07-14T18:47:58.267567Z"
    }
   },
   "outputs": [
    {
     "data": {
      "text/plain": [
       "23284"
      ]
     },
     "execution_count": 26,
     "metadata": {},
     "output_type": "execute_result"
    }
   ],
   "source": [
    "len(df_data_sub)"
   ]
  },
  {
   "cell_type": "markdown",
   "metadata": {},
   "source": [
    "**6. What is the time period of the data availability of a sensor in that node?**"
   ]
  },
  {
   "cell_type": "code",
   "execution_count": 27,
   "metadata": {
    "ExecuteTime": {
     "end_time": "2020-07-14T18:47:58.286515Z",
     "start_time": "2020-07-14T18:47:58.278537Z"
    }
   },
   "outputs": [
    {
     "name": "stdout",
     "output_type": "stream",
     "text": [
      "Data is available from 2018/05/10 10:35:00 to 2018/10/31 23:55:00\n"
     ]
    }
   ],
   "source": [
    "print('Data is available from {0} to {1}'.format(df_data_sub.timestamp.values[0],df_data_sub.timestamp.values[-1]))"
   ]
  },
  {
   "cell_type": "markdown",
   "metadata": {},
   "source": [
    "**7. Plot a time series of any available sensor in the node closest to you.**"
   ]
  },
  {
   "cell_type": "markdown",
   "metadata": {},
   "source": [
    "Pick a sensor that has a lot of data points."
   ]
  },
  {
   "cell_type": "code",
   "execution_count": 28,
   "metadata": {
    "ExecuteTime": {
     "end_time": "2020-07-14T18:47:58.302501Z",
     "start_time": "2020-07-14T18:47:58.288510Z"
    }
   },
   "outputs": [
    {
     "data": {
      "text/plain": [
       "at3                1919\n",
       "lps25h             1919\n",
       "so2                1919\n",
       "oxidizing_gases    1919\n",
       "at2                1919\n",
       "h2s                1919\n",
       "no2                1919\n",
       "o3                 1919\n",
       "reducing_gases     1919\n",
       "at1                1919\n",
       "at0                1919\n",
       "co                 1919\n",
       "sht25               144\n",
       "bmp180               16\n",
       "htu21d               16\n",
       "hih6130              16\n",
       "pr103j2              16\n",
       "tmp421               16\n",
       "tmp112               16\n",
       "tsys01               16\n",
       "Name: sensor, dtype: int64"
      ]
     },
     "execution_count": 28,
     "metadata": {},
     "output_type": "execute_result"
    }
   ],
   "source": [
    "df_data_sub.sensor.value_counts()"
   ]
  },
  {
   "cell_type": "code",
   "execution_count": 29,
   "metadata": {
    "ExecuteTime": {
     "end_time": "2020-07-14T18:47:58.315465Z",
     "start_time": "2020-07-14T18:47:58.304468Z"
    }
   },
   "outputs": [],
   "source": [
    "df_data_sub_so2 = df_data_sub.loc[df_data_sub.sensor=='so2']"
   ]
  },
  {
   "cell_type": "code",
   "execution_count": 30,
   "metadata": {
    "ExecuteTime": {
     "end_time": "2020-07-14T18:47:58.364338Z",
     "start_time": "2020-07-14T18:47:58.317434Z"
    }
   },
   "outputs": [
    {
     "data": {
      "text/html": [
       "<div>\n",
       "<style scoped>\n",
       "    .dataframe tbody tr th:only-of-type {\n",
       "        vertical-align: middle;\n",
       "    }\n",
       "\n",
       "    .dataframe tbody tr th {\n",
       "        vertical-align: top;\n",
       "    }\n",
       "\n",
       "    .dataframe thead th {\n",
       "        text-align: right;\n",
       "    }\n",
       "</style>\n",
       "<table border=\"1\" class=\"dataframe\">\n",
       "  <thead>\n",
       "    <tr style=\"text-align: right;\">\n",
       "      <th></th>\n",
       "      <th>timestamp</th>\n",
       "      <th>node_id</th>\n",
       "      <th>subsystem</th>\n",
       "      <th>sensor</th>\n",
       "      <th>parameter</th>\n",
       "      <th>value_hrf_sum</th>\n",
       "      <th>value_hrf_count</th>\n",
       "      <th>value_hrf_average</th>\n",
       "    </tr>\n",
       "  </thead>\n",
       "  <tbody>\n",
       "    <tr>\n",
       "      <th>6513251</th>\n",
       "      <td>2018/06/21 17:15:00</td>\n",
       "      <td>001e0610b9e5</td>\n",
       "      <td>chemsense</td>\n",
       "      <td>so2</td>\n",
       "      <td>concentration</td>\n",
       "      <td>9.073</td>\n",
       "      <td>1</td>\n",
       "      <td>9.073</td>\n",
       "    </tr>\n",
       "    <tr>\n",
       "      <th>13821357</th>\n",
       "      <td>2018/09/01 06:45:00</td>\n",
       "      <td>001e0610b9e5</td>\n",
       "      <td>chemsense</td>\n",
       "      <td>so2</td>\n",
       "      <td>concentration</td>\n",
       "      <td>-45.174</td>\n",
       "      <td>1</td>\n",
       "      <td>-45.174</td>\n",
       "    </tr>\n",
       "    <tr>\n",
       "      <th>18489129</th>\n",
       "      <td>2018/10/18 16:35:00</td>\n",
       "      <td>001e0610b9e5</td>\n",
       "      <td>chemsense</td>\n",
       "      <td>so2</td>\n",
       "      <td>concentration</td>\n",
       "      <td>887.680</td>\n",
       "      <td>9</td>\n",
       "      <td>98.631</td>\n",
       "    </tr>\n",
       "    <tr>\n",
       "      <th>18489239</th>\n",
       "      <td>2018/10/18 16:45:00</td>\n",
       "      <td>001e0610b9e5</td>\n",
       "      <td>chemsense</td>\n",
       "      <td>so2</td>\n",
       "      <td>concentration</td>\n",
       "      <td>1285.529</td>\n",
       "      <td>13</td>\n",
       "      <td>98.887</td>\n",
       "    </tr>\n",
       "    <tr>\n",
       "      <th>18490556</th>\n",
       "      <td>2018/10/18 16:55:00</td>\n",
       "      <td>001e0610b9e5</td>\n",
       "      <td>chemsense</td>\n",
       "      <td>so2</td>\n",
       "      <td>concentration</td>\n",
       "      <td>1782.881</td>\n",
       "      <td>18</td>\n",
       "      <td>99.049</td>\n",
       "    </tr>\n",
       "  </tbody>\n",
       "</table>\n",
       "</div>"
      ],
      "text/plain": [
       "                    timestamp       node_id  subsystem sensor      parameter  \\\n",
       "6513251   2018/06/21 17:15:00  001e0610b9e5  chemsense    so2  concentration   \n",
       "13821357  2018/09/01 06:45:00  001e0610b9e5  chemsense    so2  concentration   \n",
       "18489129  2018/10/18 16:35:00  001e0610b9e5  chemsense    so2  concentration   \n",
       "18489239  2018/10/18 16:45:00  001e0610b9e5  chemsense    so2  concentration   \n",
       "18490556  2018/10/18 16:55:00  001e0610b9e5  chemsense    so2  concentration   \n",
       "\n",
       "          value_hrf_sum  value_hrf_count  value_hrf_average  \n",
       "6513251           9.073                1              9.073  \n",
       "13821357        -45.174                1            -45.174  \n",
       "18489129        887.680                9             98.631  \n",
       "18489239       1285.529               13             98.887  \n",
       "18490556       1782.881               18             99.049  "
      ]
     },
     "execution_count": 30,
     "metadata": {},
     "output_type": "execute_result"
    }
   ],
   "source": [
    "df_data_sub_so2.head()"
   ]
  },
  {
   "cell_type": "code",
   "execution_count": 31,
   "metadata": {
    "ExecuteTime": {
     "end_time": "2020-07-14T18:47:58.377276Z",
     "start_time": "2020-07-14T18:47:58.366302Z"
    }
   },
   "outputs": [],
   "source": [
    "dtimes = pd.to_datetime(df_data_sub_so2.timestamp)"
   ]
  },
  {
   "cell_type": "code",
   "execution_count": 32,
   "metadata": {
    "ExecuteTime": {
     "end_time": "2020-07-14T18:47:58.619627Z",
     "start_time": "2020-07-14T18:47:58.379267Z"
    }
   },
   "outputs": [
    {
     "name": "stderr",
     "output_type": "stream",
     "text": [
      "C:\\Users\\iac6311\\AppData\\Local\\Continuum\\anaconda3\\envs\\saveurproj\\lib\\site-packages\\pandas\\plotting\\_converter.py:129: FutureWarning: Using an implicitly registered datetime converter for a matplotlib plotting method. The converter was registered by pandas on import. Future versions of pandas will require you to explicitly register matplotlib converters.\n",
      "\n",
      "To register the converters:\n",
      "\t>>> from pandas.plotting import register_matplotlib_converters\n",
      "\t>>> register_matplotlib_converters()\n",
      "  warnings.warn(msg, FutureWarning)\n"
     ]
    },
    {
     "data": {
      "text/plain": [
       "(736985.6909722222, 736998.9965277778)"
      ]
     },
     "execution_count": 32,
     "metadata": {},
     "output_type": "execute_result"
    },
    {
     "data": {
      "image/png": "[encoded data removed]",
      "text/plain": [
       "<Figure size 1080x288 with 1 Axes>"
      ]
     },
     "metadata": {
      "needs_background": "light"
     },
     "output_type": "display_data"
    }
   ],
   "source": [
    "plt.figure(figsize=(15,4))\n",
    "plt.plot_date(dtimes,df_data_sub_so2.value_hrf_average)\n",
    "plt.xlim('2018/10/18 16:35:00','2018/10/31 23:55:00')"
   ]
  },
  {
   "cell_type": "markdown",
   "metadata": {},
   "source": [
    "**8. Plot the map of locations of 4 sensors**\n",
    "\n",
    "I'd pick the following sensors:\n",
    "- htu21d\n",
    "- tmp112\n",
    "- h2s\n",
    "- current"
   ]
  },
  {
   "cell_type": "markdown",
   "metadata": {},
   "source": [
    "Select only the node ids and the sensors from the data dataframe."
   ]
  },
  {
   "cell_type": "code",
   "execution_count": 33,
   "metadata": {
    "ExecuteTime": {
     "end_time": "2020-07-14T18:47:58.928825Z",
     "start_time": "2020-07-14T18:47:58.621619Z"
    }
   },
   "outputs": [],
   "source": [
    "df_nodeids_sensors = df_data[['node_id','sensor']]"
   ]
  },
  {
   "cell_type": "markdown",
   "metadata": {},
   "source": [
    "Select only the node ids and the coordinates the from nodeid dataframe."
   ]
  },
  {
   "cell_type": "code",
   "execution_count": 34,
   "metadata": {
    "ExecuteTime": {
     "end_time": "2020-07-14T18:47:58.935811Z",
     "start_time": "2020-07-14T18:47:58.930823Z"
    }
   },
   "outputs": [],
   "source": [
    "df_nodeid_coords = df_nodeid[['node_id','lat','lon']]"
   ]
  },
  {
   "cell_type": "markdown",
   "metadata": {},
   "source": [
    "Now that we have two dataframes that both have the `node_id` column, we can link the sensor with the coordinates."
   ]
  },
  {
   "cell_type": "markdown",
   "metadata": {},
   "source": [
    "Filter the node_ids and sensors dataframe by selecting a specific sensor. "
   ]
  },
  {
   "cell_type": "code",
   "execution_count": 35,
   "metadata": {
    "ExecuteTime": {
     "end_time": "2020-07-14T18:47:58.945754Z",
     "start_time": "2020-07-14T18:47:58.937774Z"
    }
   },
   "outputs": [],
   "source": [
    "def get_sensor_locations(sensorname):\n",
    "\n",
    "    # filter dataframe by selecting only a specific sensor\n",
    "    df_nodeid_sensor = df_nodeids_sensors.loc[(df_nodeids_sensors.sensor==sensorname)]\n",
    "    # merge the sensor dataframe with the nodeid coords\n",
    "    df_sensor_locations = df_nodeid_coords.merge(df_nodeid_sensor)\n",
    "    # remove the duplicates\n",
    "    df_sensor_locations = df_sensor_locations.drop_duplicates()\n",
    "    \n",
    "    return df_sensor_locations"
   ]
  },
  {
   "cell_type": "code",
   "execution_count": 36,
   "metadata": {
    "ExecuteTime": {
     "end_time": "2020-07-14T18:48:06.443380Z",
     "start_time": "2020-07-14T18:47:58.947747Z"
    }
   },
   "outputs": [],
   "source": [
    "df_htu21d_locs = get_sensor_locations('htu21d')\n",
    "df_tmp112_locs = get_sensor_locations('tmp112')\n",
    "df_h2s_locs = get_sensor_locations('h2s')\n",
    "df_current_locs = get_sensor_locations('current')"
   ]
  },
  {
   "cell_type": "code",
   "execution_count": 37,
   "metadata": {
    "ExecuteTime": {
     "end_time": "2020-07-14T18:48:06.449592Z",
     "start_time": "2020-07-14T18:48:06.445350Z"
    }
   },
   "outputs": [
    {
     "name": "stdout",
     "output_type": "stream",
     "text": [
      "81\n",
      "79\n",
      "52\n",
      "8\n"
     ]
    }
   ],
   "source": [
    "print(len(df_htu21d_locs))\n",
    "print(len(df_tmp112_locs))\n",
    "print(len(df_h2s_locs))\n",
    "print(len(df_current_locs))"
   ]
  },
  {
   "cell_type": "code",
   "execution_count": 38,
   "metadata": {
    "ExecuteTime": {
     "end_time": "2020-07-14T18:48:06.845424Z",
     "start_time": "2020-07-14T18:48:06.452607Z"
    }
   },
   "outputs": [
    {
     "data": {
      "image/png": "[encoded data removed]",
      "text/plain": [
       "<Figure size 1080x1080 with 1 Axes>"
      ]
     },
     "metadata": {
      "needs_background": "light"
     },
     "output_type": "display_data"
    }
   ],
   "source": [
    "plt.figure(figsize=(15,15))\n",
    "\n",
    "ax = plt.axes(projection=ccrs.PlateCarree())\n",
    "\n",
    "ax.set_extent([-88, -87.4, 41.6, 42.1])\n",
    "\n",
    "ax.add_feature(cartopy.feature.LAND,alpha=0.5)\n",
    "ax.add_feature(cartopy.feature.LAKES,alpha=0.5)\n",
    "\n",
    "ax.scatter(df_htu21d_locs.lon,df_htu21d_locs.lat,transform=ccrs.PlateCarree(),zorder=10,color='k',s=100,edgecolor='None',label='htu21d')\n",
    "ax.scatter(df_tmp112_locs.lon,df_tmp112_locs.lat,transform=ccrs.PlateCarree(),zorder=10,color='#f4c04a',s=70,edgecolor='None',label='tmp112')\n",
    "ax.scatter(df_h2s_locs.lon,df_h2s_locs.lat,transform=ccrs.PlateCarree(),zorder=10,color='b',s=40,edgecolor='None',label='h2s')\n",
    "ax.scatter(df_current_locs.lon,df_current_locs.lat,transform=ccrs.PlateCarree(),zorder=10,color='w',s=20,edgecolor='None',label='current')\n",
    "\n",
    "gl = ax.gridlines(crs=ccrs.PlateCarree(), draw_labels=True,\n",
    "                  linewidth=1, color='gray', alpha=0.5, linestyle='--')\n",
    "\n",
    "gl.xlabels_top = False\n",
    "gl.ylabels_left = False\n",
    "\n",
    "legend = plt.legend(frameon = 0)"
   ]
  },
  {
   "cell_type": "code",
   "execution_count": null,
   "metadata": {},
   "outputs": [],
   "source": []
  },
  {
   "cell_type": "code",
   "execution_count": null,
   "metadata": {},
   "outputs": [],
   "source": []
  },
  {
   "cell_type": "code",
   "execution_count": null,
   "metadata": {},
   "outputs": [],
   "source": []
  },
  {
   "cell_type": "code",
   "execution_count": 39,
   "metadata": {
    "ExecuteTime": {
     "end_time": "2020-07-14T18:48:06.851383Z",
     "start_time": "2020-07-14T18:48:06.847391Z"
    }
   },
   "outputs": [],
   "source": [
    "node_ids = df_nodeid.node_id"
   ]
  },
  {
   "cell_type": "code",
   "execution_count": 40,
   "metadata": {
    "ExecuteTime": {
     "end_time": "2020-07-14T18:48:06.860391Z",
     "start_time": "2020-07-14T18:48:06.854373Z"
    }
   },
   "outputs": [],
   "source": [
    "lats = df_nodeid.lat.tolist()\n",
    "lons = df_nodeid.lon.tolist()"
   ]
  },
  {
   "cell_type": "code",
   "execution_count": 41,
   "metadata": {
    "ExecuteTime": {
     "end_time": "2020-07-14T18:48:06.871329Z",
     "start_time": "2020-07-14T18:48:06.862353Z"
    }
   },
   "outputs": [],
   "source": [
    "my_house_lat = 41.95\n",
    "my_house_lon = -87.68"
   ]
  },
  {
   "cell_type": "code",
   "execution_count": 42,
   "metadata": {
    "ExecuteTime": {
     "end_time": "2020-07-14T18:48:06.881302Z",
     "start_time": "2020-07-14T18:48:06.873324Z"
    }
   },
   "outputs": [],
   "source": [
    "lat,lon = my_house_lat,my_house_lon"
   ]
  },
  {
   "cell_type": "code",
   "execution_count": 43,
   "metadata": {
    "ExecuteTime": {
     "end_time": "2020-07-14T18:48:06.891276Z",
     "start_time": "2020-07-14T18:48:06.883297Z"
    }
   },
   "outputs": [],
   "source": [
    "lat_diff = [(lat-i) for i in lats]\n",
    "lon_diff = [(lon-i) for i in lons]"
   ]
  },
  {
   "cell_type": "code",
   "execution_count": 44,
   "metadata": {
    "ExecuteTime": {
     "end_time": "2020-07-14T18:48:06.901248Z",
     "start_time": "2020-07-14T18:48:06.893271Z"
    }
   },
   "outputs": [],
   "source": [
    "for i in lat_diff:\n",
    "    a = i**2\n",
    "    index = lat_diff.index(i)\n",
    "    lat_diff[index] = a"
   ]
  },
  {
   "cell_type": "code",
   "execution_count": 45,
   "metadata": {
    "ExecuteTime": {
     "end_time": "2020-07-14T18:48:06.911223Z",
     "start_time": "2020-07-14T18:48:06.903242Z"
    }
   },
   "outputs": [],
   "source": [
    "for i in lon_diff:\n",
    "    b = i**2\n",
    "    index = lon_diff.index(i)\n",
    "    lon_diff[index] = b"
   ]
  },
  {
   "cell_type": "code",
   "execution_count": 46,
   "metadata": {
    "ExecuteTime": {
     "end_time": "2020-07-14T18:48:06.921197Z",
     "start_time": "2020-07-14T18:48:06.913223Z"
    }
   },
   "outputs": [],
   "source": [
    "np_lat_diff = np.array(lat_diff)\n",
    "np_lon_diff = np.array(lon_diff)\n",
    "total_diff_list = (np_lat_diff + np_lon_diff).tolist()"
   ]
  },
  {
   "cell_type": "code",
   "execution_count": 47,
   "metadata": {
    "ExecuteTime": {
     "end_time": "2020-07-14T18:48:06.932167Z",
     "start_time": "2020-07-14T18:48:06.923191Z"
    }
   },
   "outputs": [],
   "source": [
    "total_diff = [math.sqrt(i) for i in total_diff_list]"
   ]
  },
  {
   "cell_type": "code",
   "execution_count": 48,
   "metadata": {
    "ExecuteTime": {
     "end_time": "2020-07-14T18:48:06.941143Z",
     "start_time": "2020-07-14T18:48:06.934160Z"
    }
   },
   "outputs": [],
   "source": [
    "closest_node = min(total_diff)"
   ]
  },
  {
   "cell_type": "code",
   "execution_count": 49,
   "metadata": {
    "ExecuteTime": {
     "end_time": "2020-07-14T18:48:06.951114Z",
     "start_time": "2020-07-14T18:48:06.943137Z"
    }
   },
   "outputs": [],
   "source": [
    "closest_node_index = total_diff.index(closest_node)"
   ]
  },
  {
   "cell_type": "code",
   "execution_count": 50,
   "metadata": {
    "ExecuteTime": {
     "end_time": "2020-07-14T18:48:06.962088Z",
     "start_time": "2020-07-14T18:48:06.953109Z"
    }
   },
   "outputs": [
    {
     "data": {
      "text/plain": [
       "81"
      ]
     },
     "execution_count": 50,
     "metadata": {},
     "output_type": "execute_result"
    }
   ],
   "source": [
    "closest_node_index"
   ]
  },
  {
   "cell_type": "code",
   "execution_count": 51,
   "metadata": {
    "ExecuteTime": {
     "end_time": "2020-07-14T18:48:06.972061Z",
     "start_time": "2020-07-14T18:48:06.964082Z"
    }
   },
   "outputs": [],
   "source": [
    "node_name = node_ids[closest_node_index]"
   ]
  },
  {
   "cell_type": "code",
   "execution_count": 52,
   "metadata": {
    "ExecuteTime": {
     "end_time": "2020-07-14T18:48:06.983032Z",
     "start_time": "2020-07-14T18:48:06.974053Z"
    }
   },
   "outputs": [
    {
     "data": {
      "text/plain": [
       "'001e06113d32'"
      ]
     },
     "execution_count": 52,
     "metadata": {},
     "output_type": "execute_result"
    }
   ],
   "source": [
    "node_name"
   ]
  },
  {
   "cell_type": "code",
   "execution_count": null,
   "metadata": {},
   "outputs": [],
   "source": []
  }
 ],
 "metadata": {
  "kernelspec": {
   "display_name": "Python [conda env:saveurproj]",
   "language": "python",
   "name": "conda-env-saveurproj-py"
  },
  "language_info": {
   "codemirror_mode": {
    "name": "ipython",
    "version": 3
   },
   "file_extension": ".py",
   "mimetype": "text/x-python",
   "name": "python",
   "nbconvert_exporter": "python",
   "pygments_lexer": "ipython3",
   "version": "3.7.3"
  },
  "varInspector": {
   "cols": {
    "lenName": 16,
    "lenType": 16,
    "lenVar": 40
   },
   "kernels_config": {
    "python": {
     "delete_cmd_postfix": "",
     "delete_cmd_prefix": "del ",
     "library": "var_list.py",
     "varRefreshCmd": "print(var_dic_list())"
    },
    "r": {
     "delete_cmd_postfix": ") ",
     "delete_cmd_prefix": "rm(",
     "library": "var_list.r",
     "varRefreshCmd": "cat(var_dic_list()) "
    }
   },
   "types_to_exclude": [
    "module",
    "function",
    "builtin_function_or_method",
    "instance",
    "_Feature"
   ],
   "window_display": false
  }
 },
 "nbformat": 4,
 "nbformat_minor": 2
}
