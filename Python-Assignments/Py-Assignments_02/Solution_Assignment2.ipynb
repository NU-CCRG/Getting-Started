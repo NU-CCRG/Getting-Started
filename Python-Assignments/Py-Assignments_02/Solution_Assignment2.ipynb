{
 "cells": [
  {
   "cell_type": "markdown",
   "metadata": {},
   "source": [
    "# ASSIGNMENT #2: Script to plot temperature trends\n",
    "\n",
    "by Daniel Horton, Feb 2017; mod to Python: Irene Crisologo, June 2019\n",
    "\n",
    "daniel.horton@northwestern.edu\n",
    "\n",
    "**Objectives:**\n",
    "\n",
    "Use the WACCM netCDF file to \n",
    "\n",
    "(1) create a time series plot of latitude-weighted global average **monthly** temperatures from 2006-2099 and \n",
    "\n",
    "(2) create a time series plot of latitude-weighted global average **annual** temperature anomalies from 2006-2099. Use 2006-2035 as your baseline."
   ]
  },
  {
   "cell_type": "markdown",
   "metadata": {},
   "source": [
    "### Import libraries\n",
    "\n",
    "In this exercise, we need the following libraries:\n",
    "\n",
    "* `xarray` for reading the data file\n",
    "* `matplotlib` for plotting\n",
    "* `numpy` for numerical functions\n",
    "* `math` for mathematical operations\n",
    "* `cftime` for handling the CF time format"
   ]
  },
  {
   "cell_type": "code",
   "execution_count": 2,
   "metadata": {
    "collapsed": false
   },
   "outputs": [
    {
     "name": "stderr",
     "output_type": "stream",
     "text": [
      "/home/iac6311/.conda/envs/tutorial/lib/python3.6/site-packages/dask/config.py:168: YAMLLoadWarning: calling yaml.load() without Loader=... is deprecated, as the default Loader is unsafe. Please read https://msg.pyyaml.org/load for full details.\n",
      "  data = yaml.load(f.read()) or {}\n",
      "/home/iac6311/.conda/envs/tutorial/lib/python3.6/site-packages/distributed/config.py:20: YAMLLoadWarning: calling yaml.load() without Loader=... is deprecated, as the default Loader is unsafe. Please read https://msg.pyyaml.org/load for full details.\n",
      "  defaults = yaml.load(f)\n"
     ]
    }
   ],
   "source": [
    "import xarray as xr\n",
    "import matplotlib.pyplot as plt\n",
    "import numpy as np\n",
    "import math\n",
    "import cftime"
   ]
  },
  {
   "cell_type": "markdown",
   "metadata": {},
   "source": [
    "### Define functions\n",
    "\n",
    "The global averages must be weighted by latitude. At the moment, `xarray` does not have a built-in function for weighted averaging ([though this feature seems to be close to being included...](https://github.com/pydata/xarray/issues/422)), so here is a function [created/suggested by an xarray user](https://github.com/pydata/xarray/issues/2713) for weighted averaging..."
   ]
  },
  {
   "cell_type": "code",
   "execution_count": 3,
   "metadata": {
    "collapsed": true
   },
   "outputs": [],
   "source": [
    "def weighted_mean(data_da, dim, weights):\n",
    "    r\"\"\"Computes the weighted mean.\n",
    "\n",
    "    We can only do the actual weighted mean over the dimensions that\n",
    "    ``data_da`` and ``weights`` share, so for dimensions in ``dim`` that aren't\n",
    "    included in ``weights`` we must take the unweighted mean.\n",
    "\n",
    "    This functions skips NaNs, i.e. Data points that are NaN have corresponding\n",
    "    NaN weights.\n",
    "\n",
    "    Args:\n",
    "        data_da (xarray.DataArray):\n",
    "            Data to compute a weighted mean for.\n",
    "        dim (str | list[str]):\n",
    "            dimension(s) of the dataarray to reduce over\n",
    "        weights (xarray.DataArray):\n",
    "            a 1-D dataarray the same length as the weighted dim, with dimension\n",
    "            name equal to that of the weighted dim. Must be nonnegative.\n",
    "    Returns:\n",
    "        (xarray.DataArray):\n",
    "            The mean over the given dimension. So it will contain all\n",
    "            dimensions of the input that are not in ``dim``.\n",
    "    Raises:\n",
    "        (IndexError):\n",
    "            If ``weights.dims`` is not a subset of ``dim``.\n",
    "        (ValueError):\n",
    "            If ``weights`` has values that are negative or infinite.\n",
    "    \"\"\"\n",
    "    if isinstance(dim, str):\n",
    "        dim = [dim]\n",
    "    else:\n",
    "        dim = list(dim)\n",
    "\n",
    "    if not set(weights.dims) <= set(dim):\n",
    "        dim_err_msg = (\n",
    "            \"`weights.dims` must be a subset of `dim`. {} are dimensions in \"\n",
    "            \"`weights`, but not in `dim`.\"\n",
    "        ).format(set(weights.dims) - set(dim))\n",
    "        raise IndexError(dim_err_msg)\n",
    "    else:\n",
    "        pass  # `weights.dims` is a subset of `dim`\n",
    "\n",
    "    if (weights < 0).any() or xr.ufuncs.isinf(weights).any():\n",
    "        negative_weight_err_msg = \"Weight must be nonnegative and finite\"\n",
    "        raise ValueError(negative_weight_err_msg)\n",
    "    else:\n",
    "        pass  # `weights` are nonnegative\n",
    "\n",
    "    weight_dims = [\n",
    "        weight_dim for weight_dim in dim if weight_dim in weights.dims\n",
    "    ]\n",
    "\n",
    "    if np.isnan(data_da).any():\n",
    "        expanded_weights, _ = xr.broadcast(weights, data_da)\n",
    "        weights_with_nans = expanded_weights.where(~np.isnan(data_da))\n",
    "    else:\n",
    "        weights_with_nans = weights\n",
    "\n",
    "    mean_da = ((data_da * weights_with_nans).sum(weight_dims, skipna=True)\n",
    "               / weights_with_nans.sum(weight_dims))\n",
    "    other_dims = list(set(dim) - set(weight_dims))\n",
    "    return mean_da.mean(other_dims, skipna=True)"
   ]
  },
  {
   "cell_type": "markdown",
   "metadata": {},
   "source": [
    "### Reading the file\n",
    "\n",
    "Set the filename."
   ]
  },
  {
   "cell_type": "code",
   "execution_count": 4,
   "metadata": {
    "collapsed": true
   },
   "outputs": [],
   "source": [
    "fname = '/projects/b1045/cmip/CMIP5/NCL_Practice/tas_Amon_CESM1-WACCM_rcp85_r2i1p1_200601-209912.nc'"
   ]
  },
  {
   "cell_type": "markdown",
   "metadata": {},
   "source": [
    "Use `xarray` to read the file. "
   ]
  },
  {
   "cell_type": "code",
   "execution_count": 5,
   "metadata": {
    "collapsed": true
   },
   "outputs": [],
   "source": [
    "DS=xr.open_dataset(fname)"
   ]
  },
  {
   "cell_type": "code",
   "execution_count": 6,
   "metadata": {
    "collapsed": false
   },
   "outputs": [
    {
     "name": "stdout",
     "output_type": "stream",
     "text": [
      "<xarray.Dataset>\n",
      "Dimensions:    (bnds: 2, lat: 96, lon: 144, time: 1128)\n",
      "Coordinates:\n",
      "  * time       (time) object 2006-01-16 12:00:00 ... 2099-12-16 12:00:00\n",
      "  * lat        (lat) float64 -90.0 -88.11 -86.21 -84.32 ... 86.21 88.11 90.0\n",
      "  * lon        (lon) float64 0.0 2.5 5.0 7.5 10.0 ... 350.0 352.5 355.0 357.5\n",
      "    height     float64 ...\n",
      "Dimensions without coordinates: bnds\n",
      "Data variables:\n",
      "    time_bnds  (time, bnds) object ...\n",
      "    lat_bnds   (lat, bnds) float64 ...\n",
      "    lon_bnds   (lon, bnds) float64 ...\n",
      "    tas        (time, lat, lon) float32 ...\n",
      "Attributes:\n",
      "    institution:                  NSF/DOE NCAR (National Center for Atmospher...\n",
      "    institute_id:                 NSF-DOE-NCAR\n",
      "    experiment_id:                rcp85\n",
      "    source:                       CESM1-WACCM\n",
      "    model_id:                     CESM1-WACCM\n",
      "    forcing:                      Sl GHG SS Ds SA BC MD OC Oz AA\n",
      "    parent_experiment_id:         historical\n",
      "    parent_experiment_rip:        r2i1p1\n",
      "    branch_time:                  20.0\n",
      "    contact:                      cesm_data@ucar.edu\n",
      "    comment:                      CESM home page: http://www.cesm.ucar.edu\n",
      "    references:                   Marsh, D., et.al. 2012: WACCM4 simulations ...\n",
      "    initialization_method:        1\n",
      "    physics_version:              1\n",
      "    tracking_id:                  d513bfea-70b9-4a23-b1cb-0b635741b105\n",
      "    acknowledgements:             The CESM project is supported by the Nation...\n",
      "    cesm_casename:                b40.rcp8_5.2deg.wcm.003\n",
      "    cesm_repotag:                 cesm1_0_beta09\n",
      "    cesm_compset:                 B55TRWCN\n",
      "    resolution:                   f19_g16 (1.9x2.5_gx1v6)\n",
      "    forcing_note:                 Additional information on the external forc...\n",
      "    processed_by:                 strandwg on silver.cgd.ucar.edu at 20120531...\n",
      "    processing_code_information:  Last Changed Rev: 825 Last Changed Date: 20...\n",
      "    product:                      output\n",
      "    experiment:                   RCP8.5\n",
      "    frequency:                    mon\n",
      "    creation_date:                2012-05-31T23:28:03Z\n",
      "    history:                      2012-05-31T23:28:03Z CMOR rewrote data to c...\n",
      "    Conventions:                  CF-1.4\n",
      "    project_id:                   CMIP5\n",
      "    table_id:                     Table Amon (12 January 2012) 4996d487f7a657...\n",
      "    title:                        CESM1-WACCM model output prepared for CMIP5...\n",
      "    parent_experiment:            historical\n",
      "    modeling_realm:               atmos\n",
      "    realization:                  2\n",
      "    cmor_version:                 2.8.1\n"
     ]
    }
   ],
   "source": [
    "print(DS)"
   ]
  },
  {
   "cell_type": "markdown",
   "metadata": {},
   "source": [
    "## Task 1: Time series of global monthly averages"
   ]
  },
  {
   "cell_type": "markdown",
   "metadata": {},
   "source": [
    "Select the time period of interest."
   ]
  },
  {
   "cell_type": "code",
   "execution_count": 7,
   "metadata": {
    "collapsed": true
   },
   "outputs": [],
   "source": [
    "data_2006_2099=DS.sel(time=slice('2006-01-01','2099-12-31')) # 94 years"
   ]
  },
  {
   "cell_type": "markdown",
   "metadata": {},
   "source": [
    "Assign the contents of the netcdf file to variables."
   ]
  },
  {
   "cell_type": "code",
   "execution_count": 8,
   "metadata": {
    "collapsed": true
   },
   "outputs": [],
   "source": [
    "lat = data_2006_2099.lat # latitude\n",
    "lon = data_2006_2099.lon # longitude\n",
    "tas = data_2006_2099.tas # near-surface air temperature"
   ]
  },
  {
   "cell_type": "markdown",
   "metadata": {},
   "source": [
    "Calculate the weights according to latitude. There are multiple ways to do this (see [here](https://www.ncl.ucar.edu/Document/Functions/Built-in/wgt_areaave.shtml)). In this example, we use the cosine of latitudes."
   ]
  },
  {
   "cell_type": "code",
   "execution_count": 9,
   "metadata": {
    "collapsed": false
   },
   "outputs": [],
   "source": [
    "rad  = 4.*math.atan(1.)/180.\n",
    "weights   = np.cos(lat*rad)"
   ]
  },
  {
   "cell_type": "markdown",
   "metadata": {},
   "source": [
    "Now we use the function defined above to calculate the weighted mean over the latitude, passing the correct parameters."
   ]
  },
  {
   "cell_type": "code",
   "execution_count": 10,
   "metadata": {
    "collapsed": false
   },
   "outputs": [],
   "source": [
    "wmean_lat = weighted_mean(data_2006_2099.tas, dim='lat', weights=weights)"
   ]
  },
  {
   "cell_type": "markdown",
   "metadata": {},
   "source": [
    "Since we want a single average value for the year, we also average over the longitudes. This time it does not have to be weighted."
   ]
  },
  {
   "cell_type": "code",
   "execution_count": 11,
   "metadata": {
    "collapsed": true
   },
   "outputs": [],
   "source": [
    "wmean = wmean_lat.mean(dim='lon')"
   ]
  },
  {
   "cell_type": "markdown",
   "metadata": {},
   "source": [
    "### Plotting"
   ]
  },
  {
   "cell_type": "markdown",
   "metadata": {},
   "source": [
    "We want to plot the monthly mean temperatures over time. The data is already in monthly intervals, so we just need to get the data values from the `wmean` DataArray and plot that agains the time variable."
   ]
  },
  {
   "cell_type": "code",
   "execution_count": 12,
   "metadata": {
    "collapsed": false
   },
   "outputs": [
    {
     "data": {
      "text/plain": [
       "Text(0.0, 1.0, 'Global Monthly Mean Temperatures')"
      ]
     },
     "execution_count": 12,
     "metadata": {},
     "output_type": "execute_result"
    },
    {
     "data": {
      "image/png": "[encoded data removed]",
      "text/plain": [
       "<Figure size 720x216 with 1 Axes>"
      ]
     },
     "metadata": {
      "needs_background": "light"
     },
     "output_type": "display_data"
    }
   ],
   "source": [
    "plt.figure(figsize=(10,3))\n",
    "plt.plot(wmean.time, wmean.data, linestyle='-', color='black', linewidth=0.5)\n",
    "plt.xlabel('Time')\n",
    "plt.ylabel('Temperature (K)')\n",
    "plt.title('Global Monthly Mean Temperatures', loc='left')"
   ]
  },
  {
   "cell_type": "markdown",
   "metadata": {
    "collapsed": true
   },
   "source": [
    "## Task 2: Plot the global average annual temperature anomalies"
   ]
  },
  {
   "cell_type": "markdown",
   "metadata": {},
   "source": [
    "We already have the latitude-weighted monthly mean above, now we just need to get the annual average. We can do this by grouping the monthly data to yearly, using `groupby`."
   ]
  },
  {
   "cell_type": "code",
   "execution_count": 13,
   "metadata": {
    "collapsed": false
   },
   "outputs": [],
   "source": [
    "annual_wmean = wmean.groupby('time.year').mean(dim='time')"
   ]
  },
  {
   "cell_type": "markdown",
   "metadata": {},
   "source": [
    "We want to get the temperature anomalies, using 2006-2035 as the baseline.\n",
    "\n",
    "To do this, we get the timeslice for the baseline, then take the average of that over time."
   ]
  },
  {
   "cell_type": "code",
   "execution_count": 14,
   "metadata": {
    "collapsed": true
   },
   "outputs": [],
   "source": [
    "baseline = wmean.sel(time=slice('2006-01-01','2035-12-31')).mean(dim='time')"
   ]
  },
  {
   "cell_type": "markdown",
   "metadata": {},
   "source": [
    "This should give us a single value of the baseline temperature."
   ]
  },
  {
   "cell_type": "code",
   "execution_count": 15,
   "metadata": {
    "collapsed": false
   },
   "outputs": [
    {
     "name": "stdout",
     "output_type": "stream",
     "text": [
      "<xarray.DataArray ()>\n",
      "array(288.227638)\n",
      "Coordinates:\n",
      "    height   float64 2.0\n"
     ]
    }
   ],
   "source": [
    "print(baseline)"
   ]
  },
  {
   "cell_type": "markdown",
   "metadata": {},
   "source": [
    "We then subtract the baseline from the annual weighted mean, to get the anomaly."
   ]
  },
  {
   "cell_type": "code",
   "execution_count": 19,
   "metadata": {
    "collapsed": true
   },
   "outputs": [],
   "source": [
    "anomaly = annual_wmean - baseline"
   ]
  },
  {
   "cell_type": "markdown",
   "metadata": {},
   "source": [
    "### Plotting"
   ]
  },
  {
   "cell_type": "code",
   "execution_count": 20,
   "metadata": {
    "collapsed": false
   },
   "outputs": [
    {
     "data": {
      "text/plain": [
       "Text(0.0, 1.0, 'Global Annual Temperature Anomaly')"
      ]
     },
     "execution_count": 20,
     "metadata": {},
     "output_type": "execute_result"
    },
    {
     "data": {
      "image/png": "[encoded data removed]",
      "text/plain": [
       "<Figure size 720x216 with 1 Axes>"
      ]
     },
     "metadata": {
      "needs_background": "light"
     },
     "output_type": "display_data"
    }
   ],
   "source": [
    "plt.figure(figsize=(10,3))\n",
    "plt.plot(anomaly.year, anomaly.data, linestyle='-', color='black', linewidth=0.5)\n",
    "plt.xlabel('Time')\n",
    "plt.ylabel('Temperature (K)')\n",
    "plt.title('Global Annual Temperature Anomaly', loc='left')"
   ]
  },
  {
   "cell_type": "markdown",
   "metadata": {
    "collapsed": true
   },
   "source": [
    "### Bonus! Plotting the two plots together"
   ]
  },
  {
   "cell_type": "markdown",
   "metadata": {},
   "source": [
    "The time variable of the monthly mean is in a certain type (`cftime.DatetimeNoLeap`), while after doing the annual average the time variable in the `anomaly` variable then becomes an integer array. In order to make sure the two plots wil align together, we need to be able to set the limits of the axis."
   ]
  },
  {
   "cell_type": "code",
   "execution_count": 24,
   "metadata": {
    "collapsed": false
   },
   "outputs": [
    {
     "name": "stdout",
     "output_type": "stream",
     "text": [
      "<xarray.DataArray 'time' (time: 1128)>\n",
      "array([cftime.DatetimeNoLeap(2006, 1, 16, 12, 0, 0, 0, 5, 16),\n",
      "       cftime.DatetimeNoLeap(2006, 2, 15, 0, 0, 0, 0, 0, 46),\n",
      "       cftime.DatetimeNoLeap(2006, 3, 16, 12, 0, 0, 0, 1, 75), ...,\n",
      "       cftime.DatetimeNoLeap(2099, 10, 16, 12, 0, 0, 0, 0, 289),\n",
      "       cftime.DatetimeNoLeap(2099, 11, 16, 0, 0, 0, 0, 3, 320),\n",
      "       cftime.DatetimeNoLeap(2099, 12, 16, 12, 0, 0, 0, 5, 350)], dtype=object)\n",
      "Coordinates:\n",
      "  * time     (time) object 2006-01-16 12:00:00 ... 2099-12-16 12:00:00\n",
      "    height   float64 2.0\n",
      "Attributes:\n",
      "    bounds:         time_bnds\n",
      "    axis:           T\n",
      "    long_name:      time\n",
      "    standard_name:  time\n"
     ]
    }
   ],
   "source": [
    "print(wmean.time)"
   ]
  },
  {
   "cell_type": "code",
   "execution_count": 25,
   "metadata": {
    "collapsed": false
   },
   "outputs": [
    {
     "name": "stdout",
     "output_type": "stream",
     "text": [
      "<xarray.DataArray 'year' (year: 94)>\n",
      "array([2006, 2007, 2008, 2009, 2010, 2011, 2012, 2013, 2014, 2015, 2016, 2017,\n",
      "       2018, 2019, 2020, 2021, 2022, 2023, 2024, 2025, 2026, 2027, 2028, 2029,\n",
      "       2030, 2031, 2032, 2033, 2034, 2035, 2036, 2037, 2038, 2039, 2040, 2041,\n",
      "       2042, 2043, 2044, 2045, 2046, 2047, 2048, 2049, 2050, 2051, 2052, 2053,\n",
      "       2054, 2055, 2056, 2057, 2058, 2059, 2060, 2061, 2062, 2063, 2064, 2065,\n",
      "       2066, 2067, 2068, 2069, 2070, 2071, 2072, 2073, 2074, 2075, 2076, 2077,\n",
      "       2078, 2079, 2080, 2081, 2082, 2083, 2084, 2085, 2086, 2087, 2088, 2089,\n",
      "       2090, 2091, 2092, 2093, 2094, 2095, 2096, 2097, 2098, 2099])\n",
      "Coordinates:\n",
      "    height   float64 2.0\n",
      "  * year     (year) int64 2006 2007 2008 2009 2010 ... 2095 2096 2097 2098 2099\n"
     ]
    }
   ],
   "source": [
    "print(anomaly.year)"
   ]
  },
  {
   "cell_type": "markdown",
   "metadata": {},
   "source": [
    "Convert the time data type from `cftime.DatatimeNoLeap` to a python datetime object, for easier handling of datetime types."
   ]
  },
  {
   "cell_type": "code",
   "execution_count": 26,
   "metadata": {
    "collapsed": false
   },
   "outputs": [
    {
     "name": "stderr",
     "output_type": "stream",
     "text": [
      "/home/iac6311/.conda/envs/tutorial/lib/python3.6/site-packages/ipykernel_launcher.py:1: RuntimeWarning: Converting a CFTimeIndex with dates from a non-standard calendar, 'noleap', to a pandas.DatetimeIndex, which uses dates from the standard calendar.  This may lead to subtle errors in operations that depend on the length of time between dates.\n",
      "  \"\"\"Entry point for launching an IPython kernel.\n"
     ]
    }
   ],
   "source": [
    "wmean_time = wmean.indexes['time'].to_datetimeindex()"
   ]
  },
  {
   "cell_type": "markdown",
   "metadata": {},
   "source": [
    "Make the plots!"
   ]
  },
  {
   "cell_type": "code",
   "execution_count": 27,
   "metadata": {
    "collapsed": false
   },
   "outputs": [
    {
     "name": "stderr",
     "output_type": "stream",
     "text": [
      "/home/iac6311/.conda/envs/tutorial/lib/python3.6/site-packages/pandas/plotting/_converter.py:129: FutureWarning: Using an implicitly registered datetime converter for a matplotlib plotting method. The converter was registered by pandas on import. Future versions of pandas will require you to explicitly register matplotlib converters.\n",
      "\n",
      "To register the converters:\n",
      "\t>>> from pandas.plotting import register_matplotlib_converters\n",
      "\t>>> register_matplotlib_converters()\n",
      "  warnings.warn(msg, FutureWarning)\n"
     ]
    },
    {
     "data": {
      "image/png": "[encoded data removed]",
      "text/plain": [
       "<Figure size 720x432 with 2 Axes>"
      ]
     },
     "metadata": {
      "needs_background": "light"
     },
     "output_type": "display_data"
    }
   ],
   "source": [
    "fig, [ax1,ax2] = plt.subplots(nrows=2, ncols=1, figsize=(10,6))\n",
    "\n",
    "ax1.plot(wmean_time, wmean.data, linestyle='-', color='black', linewidth=0.5)\n",
    "ax1.set_xlim('2006-01-01','2100-01-01')\n",
    "ax2.plot(anomaly.year, anomaly.data, linestyle='-', color='black', linewidth=0.5)\n",
    "ax2.set_xlim(2006,2100)\n",
    "ax1.set_title('Global average monthly temperatures from 2006-2099 (K)', loc='left')\n",
    "ax2.set_title('Global average annual temperature anomalies from 2006-2099 (K)', loc='left')\n",
    "\n",
    "plt.tight_layout()"
   ]
  },
  {
   "cell_type": "markdown",
   "metadata": {},
   "source": [
    "To look at the actual numbers, print the data values."
   ]
  },
  {
   "cell_type": "code",
   "execution_count": 28,
   "metadata": {
    "collapsed": false,
    "scrolled": true
   },
   "outputs": [
    {
     "name": "stdout",
     "output_type": "stream",
     "text": [
      "[-0.27398833 -0.3928596  -0.25660996 -0.28277124 -0.32445951 -0.156333\n",
      " -0.08287064 -0.19662883 -0.04152032 -0.18185994 -0.19525019 -0.04827331\n",
      " -0.04900845 -0.06719504  0.06025024  0.05189544 -0.17560422 -0.05903959\n",
      "  0.16658576  0.16169586 -0.03929155  0.14550122  0.19819768  0.22433814\n",
      "  0.29353968  0.25825732  0.17226771  0.26498404  0.43586305  0.39018759\n",
      "  0.38731491  0.56183486  0.46526567  0.45995635  0.5568897   0.60009746\n",
      "  0.62371891  0.63457894  0.79747911  0.97852875  0.96573386  0.99849351\n",
      "  0.95655332  0.97209901  0.88290947  0.92237166  1.08554578  1.0192119\n",
      "  1.12626252  1.04311037  1.20040475  1.30664864  1.28076551  1.18238045\n",
      "  1.33696536  1.55468798  1.56587737  1.4817337   1.49645861  1.60866144\n",
      "  1.63195482  1.80867906  1.83648361  1.73430737  1.79201439  1.86439335\n",
      "  2.05659861  1.92860164  1.91509719  2.02837711  2.08056046  1.95446325\n",
      "  1.99747418  2.10530647  2.28730364  2.46915976  2.50135556  2.27167331\n",
      "  2.27430155  2.32634983  2.35092335  2.49836754  2.60855248  2.5810168\n",
      "  2.75276009  2.91242382  2.81137537  2.80373512  2.91363682  3.03678551\n",
      "  3.19025679  3.10742307  2.96403305  2.94791936]\n"
     ]
    }
   ],
   "source": [
    "print(anomaly.data)"
   ]
  },
  {
   "cell_type": "markdown",
   "metadata": {},
   "source": [
    "Some references used:"
   ]
  },
  {
   "cell_type": "markdown",
   "metadata": {},
   "source": [
    "* https://github.com/SciTools/nc-time-axis/pull/42\n",
    "* https://github.com/Unidata/cftime/issues/111\n",
    "* https://github.com/pydata/xarray/issues/2713\n",
    "* http://xarray.pydata.org/en/stable/generated/xarray.DataArray.groupby.html\n",
    "* http://xarray.pydata.org/en/stable/examples/monthly-means.html"
   ]
  },
  {
   "cell_type": "code",
   "execution_count": null,
   "metadata": {
    "collapsed": true
   },
   "outputs": [],
   "source": []
  }
 ],
 "metadata": {
  "kernelspec": {
   "display_name": "tutorial",
   "language": "python",
   "name": "tutorial"
  },
  "language_info": {
   "codemirror_mode": {
    "name": "ipython",
    "version": 3
   },
   "file_extension": ".py",
   "mimetype": "text/x-python",
   "name": "python",
   "nbconvert_exporter": "python",
   "pygments_lexer": "ipython3",
   "version": "3.6.8"
  }
 },
 "nbformat": 4,
 "nbformat_minor": 2
}
